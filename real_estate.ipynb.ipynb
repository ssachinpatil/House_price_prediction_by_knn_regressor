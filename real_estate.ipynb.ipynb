{
 "cells": [
  {
   "cell_type": "code",
   "execution_count": 1,
   "id": "13f3ea26",
   "metadata": {},
   "outputs": [],
   "source": [
    "import numpy as np\n",
    "import pandas as pd\n",
    "\n",
    "from sklearn.preprocessing import MinMaxScaler,StandardScaler\n",
    "\n",
    "from sklearn.model_selection import train_test_split\n",
    "\n",
    "from sklearn.neighbors import KNeighborsRegressor\n",
    "\n",
    "from sklearn.metrics import mean_squared_error,mean_absolute_error,r2_score\n",
    "\n",
    "import matplotlib.pyplot as plt\n",
    "import seaborn as sns\n",
    "\n",
    "import pickle\n",
    "import json"
   ]
  },
  {
   "cell_type": "markdown",
   "id": "e8f1a856",
   "metadata": {},
   "source": [
    "## Problem statment"
   ]
  },
  {
   "cell_type": "raw",
   "id": "3437dd64",
   "metadata": {},
   "source": [
    "## By using independen feature calculate house price per unit area"
   ]
  },
  {
   "cell_type": "markdown",
   "id": "ed5184f7",
   "metadata": {},
   "source": [
    "## Data gathering"
   ]
  },
  {
   "cell_type": "code",
   "execution_count": 2,
   "id": "8f4e278d",
   "metadata": {},
   "outputs": [
    {
     "data": {
      "text/html": [
       "<div>\n",
       "<style scoped>\n",
       "    .dataframe tbody tr th:only-of-type {\n",
       "        vertical-align: middle;\n",
       "    }\n",
       "\n",
       "    .dataframe tbody tr th {\n",
       "        vertical-align: top;\n",
       "    }\n",
       "\n",
       "    .dataframe thead th {\n",
       "        text-align: right;\n",
       "    }\n",
       "</style>\n",
       "<table border=\"1\" class=\"dataframe\">\n",
       "  <thead>\n",
       "    <tr style=\"text-align: right;\">\n",
       "      <th></th>\n",
       "      <th>No</th>\n",
       "      <th>X1 transaction date</th>\n",
       "      <th>X2 house age</th>\n",
       "      <th>X3 distance to the nearest MRT station</th>\n",
       "      <th>X4 number of convenience stores</th>\n",
       "      <th>X5 latitude</th>\n",
       "      <th>X6 longitude</th>\n",
       "      <th>Y house price of unit area</th>\n",
       "    </tr>\n",
       "  </thead>\n",
       "  <tbody>\n",
       "    <tr>\n",
       "      <th>0</th>\n",
       "      <td>1</td>\n",
       "      <td>2012.917</td>\n",
       "      <td>32.0</td>\n",
       "      <td>84.87882</td>\n",
       "      <td>10.0</td>\n",
       "      <td>24.98298</td>\n",
       "      <td>121.54024</td>\n",
       "      <td>37.9</td>\n",
       "    </tr>\n",
       "    <tr>\n",
       "      <th>1</th>\n",
       "      <td>2</td>\n",
       "      <td>2012.917</td>\n",
       "      <td>19.5</td>\n",
       "      <td>306.59470</td>\n",
       "      <td>9.0</td>\n",
       "      <td>24.98034</td>\n",
       "      <td>121.53951</td>\n",
       "      <td>42.2</td>\n",
       "    </tr>\n",
       "    <tr>\n",
       "      <th>2</th>\n",
       "      <td>3</td>\n",
       "      <td>2013.583</td>\n",
       "      <td>13.3</td>\n",
       "      <td>561.98450</td>\n",
       "      <td>5.0</td>\n",
       "      <td>24.98746</td>\n",
       "      <td>121.54391</td>\n",
       "      <td>47.3</td>\n",
       "    </tr>\n",
       "  </tbody>\n",
       "</table>\n",
       "</div>"
      ],
      "text/plain": [
       "   No  X1 transaction date  X2 house age  \\\n",
       "0   1             2012.917          32.0   \n",
       "1   2             2012.917          19.5   \n",
       "2   3             2013.583          13.3   \n",
       "\n",
       "   X3 distance to the nearest MRT station  X4 number of convenience stores  \\\n",
       "0                                84.87882                             10.0   \n",
       "1                               306.59470                              9.0   \n",
       "2                               561.98450                              5.0   \n",
       "\n",
       "   X5 latitude  X6 longitude  Y house price of unit area  \n",
       "0     24.98298     121.54024                        37.9  \n",
       "1     24.98034     121.53951                        42.2  \n",
       "2     24.98746     121.54391                        47.3  "
      ]
     },
     "execution_count": 2,
     "metadata": {},
     "output_type": "execute_result"
    }
   ],
   "source": [
    "df=pd.read_csv(\"real-estate.csv\")\n",
    "df.head(3)"
   ]
  },
  {
   "cell_type": "markdown",
   "id": "e397f2a9",
   "metadata": {},
   "source": [
    "## EDA"
   ]
  },
  {
   "cell_type": "code",
   "execution_count": 3,
   "id": "10e063be",
   "metadata": {},
   "outputs": [
    {
     "name": "stdout",
     "output_type": "stream",
     "text": [
      "<class 'pandas.core.frame.DataFrame'>\n",
      "RangeIndex: 414 entries, 0 to 413\n",
      "Data columns (total 8 columns):\n",
      " #   Column                                  Non-Null Count  Dtype  \n",
      "---  ------                                  --------------  -----  \n",
      " 0   No                                      414 non-null    int64  \n",
      " 1   X1 transaction date                     413 non-null    float64\n",
      " 2   X2 house age                            413 non-null    float64\n",
      " 3   X3 distance to the nearest MRT station  412 non-null    float64\n",
      " 4   X4 number of convenience stores         412 non-null    float64\n",
      " 5   X5 latitude                             412 non-null    float64\n",
      " 6   X6 longitude                            411 non-null    float64\n",
      " 7   Y house price of unit area              413 non-null    float64\n",
      "dtypes: float64(7), int64(1)\n",
      "memory usage: 26.0 KB\n"
     ]
    }
   ],
   "source": [
    "df.info()"
   ]
  },
  {
   "cell_type": "code",
   "execution_count": 4,
   "id": "0d43003c",
   "metadata": {},
   "outputs": [
    {
     "data": {
      "text/html": [
       "<div>\n",
       "<style scoped>\n",
       "    .dataframe tbody tr th:only-of-type {\n",
       "        vertical-align: middle;\n",
       "    }\n",
       "\n",
       "    .dataframe tbody tr th {\n",
       "        vertical-align: top;\n",
       "    }\n",
       "\n",
       "    .dataframe thead th {\n",
       "        text-align: right;\n",
       "    }\n",
       "</style>\n",
       "<table border=\"1\" class=\"dataframe\">\n",
       "  <thead>\n",
       "    <tr style=\"text-align: right;\">\n",
       "      <th></th>\n",
       "      <th>X1 transaction date</th>\n",
       "      <th>X2 house age</th>\n",
       "      <th>X3 distance to the nearest MRT station</th>\n",
       "      <th>X4 number of convenience stores</th>\n",
       "      <th>X5 latitude</th>\n",
       "      <th>X6 longitude</th>\n",
       "      <th>Y house price of unit area</th>\n",
       "    </tr>\n",
       "  </thead>\n",
       "  <tbody>\n",
       "    <tr>\n",
       "      <th>413</th>\n",
       "      <td>2013.5</td>\n",
       "      <td>6.5</td>\n",
       "      <td>90.45606</td>\n",
       "      <td>9.0</td>\n",
       "      <td>24.97433</td>\n",
       "      <td>121.5431</td>\n",
       "      <td>63.9</td>\n",
       "    </tr>\n",
       "  </tbody>\n",
       "</table>\n",
       "</div>"
      ],
      "text/plain": [
       "     X1 transaction date  X2 house age  \\\n",
       "413               2013.5           6.5   \n",
       "\n",
       "     X3 distance to the nearest MRT station  X4 number of convenience stores  \\\n",
       "413                                90.45606                              9.0   \n",
       "\n",
       "     X5 latitude  X6 longitude  Y house price of unit area  \n",
       "413     24.97433      121.5431                        63.9  "
      ]
     },
     "execution_count": 4,
     "metadata": {},
     "output_type": "execute_result"
    }
   ],
   "source": [
    "df=df.drop(columns=\"No\")\n",
    "df.tail(1)"
   ]
  },
  {
   "cell_type": "code",
   "execution_count": 5,
   "id": "82e549f6",
   "metadata": {},
   "outputs": [
    {
     "data": {
      "text/html": [
       "<div>\n",
       "<style scoped>\n",
       "    .dataframe tbody tr th:only-of-type {\n",
       "        vertical-align: middle;\n",
       "    }\n",
       "\n",
       "    .dataframe tbody tr th {\n",
       "        vertical-align: top;\n",
       "    }\n",
       "\n",
       "    .dataframe thead th {\n",
       "        text-align: right;\n",
       "    }\n",
       "</style>\n",
       "<table border=\"1\" class=\"dataframe\">\n",
       "  <thead>\n",
       "    <tr style=\"text-align: right;\">\n",
       "      <th></th>\n",
       "      <th>X1 transaction date</th>\n",
       "      <th>X2 house age</th>\n",
       "      <th>X3 distance to the nearest MRT station</th>\n",
       "      <th>X4 number of convenience stores</th>\n",
       "      <th>X5 latitude</th>\n",
       "      <th>X6 longitude</th>\n",
       "      <th>Y house price of unit area</th>\n",
       "    </tr>\n",
       "  </thead>\n",
       "  <tbody>\n",
       "    <tr>\n",
       "      <th>count</th>\n",
       "      <td>413.000000</td>\n",
       "      <td>413.000000</td>\n",
       "      <td>412.000000</td>\n",
       "      <td>412.000000</td>\n",
       "      <td>412.000000</td>\n",
       "      <td>411.000000</td>\n",
       "      <td>413.00000</td>\n",
       "    </tr>\n",
       "    <tr>\n",
       "      <th>mean</th>\n",
       "      <td>2013.148322</td>\n",
       "      <td>17.740194</td>\n",
       "      <td>1078.370143</td>\n",
       "      <td>4.104369</td>\n",
       "      <td>24.968977</td>\n",
       "      <td>121.533345</td>\n",
       "      <td>38.00678</td>\n",
       "    </tr>\n",
       "    <tr>\n",
       "      <th>std</th>\n",
       "      <td>0.281999</td>\n",
       "      <td>11.392402</td>\n",
       "      <td>1256.913530</td>\n",
       "      <td>2.945784</td>\n",
       "      <td>0.012410</td>\n",
       "      <td>0.015333</td>\n",
       "      <td>13.61222</td>\n",
       "    </tr>\n",
       "    <tr>\n",
       "      <th>min</th>\n",
       "      <td>2012.667000</td>\n",
       "      <td>0.000000</td>\n",
       "      <td>23.382840</td>\n",
       "      <td>0.000000</td>\n",
       "      <td>24.932070</td>\n",
       "      <td>121.473530</td>\n",
       "      <td>7.60000</td>\n",
       "    </tr>\n",
       "    <tr>\n",
       "      <th>25%</th>\n",
       "      <td>2012.917000</td>\n",
       "      <td>9.100000</td>\n",
       "      <td>289.324800</td>\n",
       "      <td>1.000000</td>\n",
       "      <td>24.962990</td>\n",
       "      <td>121.528570</td>\n",
       "      <td>27.70000</td>\n",
       "    </tr>\n",
       "    <tr>\n",
       "      <th>50%</th>\n",
       "      <td>2013.167000</td>\n",
       "      <td>16.100000</td>\n",
       "      <td>492.231300</td>\n",
       "      <td>4.000000</td>\n",
       "      <td>24.971100</td>\n",
       "      <td>121.538630</td>\n",
       "      <td>38.50000</td>\n",
       "    </tr>\n",
       "    <tr>\n",
       "      <th>75%</th>\n",
       "      <td>2013.417000</td>\n",
       "      <td>28.200000</td>\n",
       "      <td>1451.241000</td>\n",
       "      <td>6.000000</td>\n",
       "      <td>24.977445</td>\n",
       "      <td>121.543245</td>\n",
       "      <td>46.60000</td>\n",
       "    </tr>\n",
       "    <tr>\n",
       "      <th>max</th>\n",
       "      <td>2013.583000</td>\n",
       "      <td>43.800000</td>\n",
       "      <td>6488.021000</td>\n",
       "      <td>10.000000</td>\n",
       "      <td>25.014590</td>\n",
       "      <td>121.566270</td>\n",
       "      <td>117.50000</td>\n",
       "    </tr>\n",
       "  </tbody>\n",
       "</table>\n",
       "</div>"
      ],
      "text/plain": [
       "       X1 transaction date  X2 house age  \\\n",
       "count           413.000000    413.000000   \n",
       "mean           2013.148322     17.740194   \n",
       "std               0.281999     11.392402   \n",
       "min            2012.667000      0.000000   \n",
       "25%            2012.917000      9.100000   \n",
       "50%            2013.167000     16.100000   \n",
       "75%            2013.417000     28.200000   \n",
       "max            2013.583000     43.800000   \n",
       "\n",
       "       X3 distance to the nearest MRT station  \\\n",
       "count                              412.000000   \n",
       "mean                              1078.370143   \n",
       "std                               1256.913530   \n",
       "min                                 23.382840   \n",
       "25%                                289.324800   \n",
       "50%                                492.231300   \n",
       "75%                               1451.241000   \n",
       "max                               6488.021000   \n",
       "\n",
       "       X4 number of convenience stores  X5 latitude  X6 longitude  \\\n",
       "count                       412.000000   412.000000    411.000000   \n",
       "mean                          4.104369    24.968977    121.533345   \n",
       "std                           2.945784     0.012410      0.015333   \n",
       "min                           0.000000    24.932070    121.473530   \n",
       "25%                           1.000000    24.962990    121.528570   \n",
       "50%                           4.000000    24.971100    121.538630   \n",
       "75%                           6.000000    24.977445    121.543245   \n",
       "max                          10.000000    25.014590    121.566270   \n",
       "\n",
       "       Y house price of unit area  \n",
       "count                   413.00000  \n",
       "mean                     38.00678  \n",
       "std                      13.61222  \n",
       "min                       7.60000  \n",
       "25%                      27.70000  \n",
       "50%                      38.50000  \n",
       "75%                      46.60000  \n",
       "max                     117.50000  "
      ]
     },
     "execution_count": 5,
     "metadata": {},
     "output_type": "execute_result"
    }
   ],
   "source": [
    "df.describe()"
   ]
  },
  {
   "cell_type": "code",
   "execution_count": 6,
   "id": "a9f6e288",
   "metadata": {},
   "outputs": [],
   "source": [
    "## there are some missing values"
   ]
  },
  {
   "cell_type": "markdown",
   "id": "8c2d89a7",
   "metadata": {},
   "source": [
    "### handle missing value"
   ]
  },
  {
   "cell_type": "code",
   "execution_count": 7,
   "id": "c611ac96",
   "metadata": {},
   "outputs": [],
   "source": [
    "from sklearn.impute import SimpleImputer"
   ]
  },
  {
   "cell_type": "code",
   "execution_count": 8,
   "id": "acd975a0",
   "metadata": {},
   "outputs": [
    {
     "data": {
      "text/html": [
       "<div>\n",
       "<style scoped>\n",
       "    .dataframe tbody tr th:only-of-type {\n",
       "        vertical-align: middle;\n",
       "    }\n",
       "\n",
       "    .dataframe tbody tr th {\n",
       "        vertical-align: top;\n",
       "    }\n",
       "\n",
       "    .dataframe thead th {\n",
       "        text-align: right;\n",
       "    }\n",
       "</style>\n",
       "<table border=\"1\" class=\"dataframe\">\n",
       "  <thead>\n",
       "    <tr style=\"text-align: right;\">\n",
       "      <th></th>\n",
       "      <th>X1 transaction date</th>\n",
       "      <th>X2 house age</th>\n",
       "      <th>X3 distance to the nearest MRT station</th>\n",
       "      <th>X4 number of convenience stores</th>\n",
       "      <th>X5 latitude</th>\n",
       "      <th>X6 longitude</th>\n",
       "      <th>Y house price of unit area</th>\n",
       "    </tr>\n",
       "  </thead>\n",
       "  <tbody>\n",
       "    <tr>\n",
       "      <th>0</th>\n",
       "      <td>2012.917</td>\n",
       "      <td>32.0</td>\n",
       "      <td>84.87882</td>\n",
       "      <td>10.0</td>\n",
       "      <td>24.98298</td>\n",
       "      <td>121.54024</td>\n",
       "      <td>37.9</td>\n",
       "    </tr>\n",
       "    <tr>\n",
       "      <th>1</th>\n",
       "      <td>2012.917</td>\n",
       "      <td>19.5</td>\n",
       "      <td>306.59470</td>\n",
       "      <td>9.0</td>\n",
       "      <td>24.98034</td>\n",
       "      <td>121.53951</td>\n",
       "      <td>42.2</td>\n",
       "    </tr>\n",
       "    <tr>\n",
       "      <th>2</th>\n",
       "      <td>2013.583</td>\n",
       "      <td>13.3</td>\n",
       "      <td>561.98450</td>\n",
       "      <td>5.0</td>\n",
       "      <td>24.98746</td>\n",
       "      <td>121.54391</td>\n",
       "      <td>47.3</td>\n",
       "    </tr>\n",
       "    <tr>\n",
       "      <th>3</th>\n",
       "      <td>2013.500</td>\n",
       "      <td>13.3</td>\n",
       "      <td>561.98450</td>\n",
       "      <td>5.0</td>\n",
       "      <td>24.98746</td>\n",
       "      <td>121.54391</td>\n",
       "      <td>54.8</td>\n",
       "    </tr>\n",
       "    <tr>\n",
       "      <th>4</th>\n",
       "      <td>2012.833</td>\n",
       "      <td>5.0</td>\n",
       "      <td>390.56840</td>\n",
       "      <td>5.0</td>\n",
       "      <td>24.97937</td>\n",
       "      <td>121.54245</td>\n",
       "      <td>43.1</td>\n",
       "    </tr>\n",
       "  </tbody>\n",
       "</table>\n",
       "</div>"
      ],
      "text/plain": [
       "   X1 transaction date  X2 house age  X3 distance to the nearest MRT station  \\\n",
       "0             2012.917          32.0                                84.87882   \n",
       "1             2012.917          19.5                               306.59470   \n",
       "2             2013.583          13.3                               561.98450   \n",
       "3             2013.500          13.3                               561.98450   \n",
       "4             2012.833           5.0                               390.56840   \n",
       "\n",
       "   X4 number of convenience stores  X5 latitude  X6 longitude  \\\n",
       "0                             10.0     24.98298     121.54024   \n",
       "1                              9.0     24.98034     121.53951   \n",
       "2                              5.0     24.98746     121.54391   \n",
       "3                              5.0     24.98746     121.54391   \n",
       "4                              5.0     24.97937     121.54245   \n",
       "\n",
       "   Y house price of unit area  \n",
       "0                        37.9  \n",
       "1                        42.2  \n",
       "2                        47.3  \n",
       "3                        54.8  \n",
       "4                        43.1  "
      ]
     },
     "execution_count": 8,
     "metadata": {},
     "output_type": "execute_result"
    }
   ],
   "source": [
    "imputer=SimpleImputer(strategy=\"median\")\n",
    "x=imputer.fit_transform(df)\n",
    "df1=pd.DataFrame(x,columns=df.columns)\n",
    "df1.head()"
   ]
  },
  {
   "cell_type": "code",
   "execution_count": 9,
   "id": "04a09835",
   "metadata": {},
   "outputs": [
    {
     "name": "stdout",
     "output_type": "stream",
     "text": [
      "<class 'pandas.core.frame.DataFrame'>\n",
      "RangeIndex: 414 entries, 0 to 413\n",
      "Data columns (total 7 columns):\n",
      " #   Column                                  Non-Null Count  Dtype  \n",
      "---  ------                                  --------------  -----  \n",
      " 0   X1 transaction date                     414 non-null    float64\n",
      " 1   X2 house age                            414 non-null    float64\n",
      " 2   X3 distance to the nearest MRT station  414 non-null    float64\n",
      " 3   X4 number of convenience stores         414 non-null    float64\n",
      " 4   X5 latitude                             414 non-null    float64\n",
      " 5   X6 longitude                            414 non-null    float64\n",
      " 6   Y house price of unit area              414 non-null    float64\n",
      "dtypes: float64(7)\n",
      "memory usage: 22.8 KB\n"
     ]
    }
   ],
   "source": [
    "df1.info()"
   ]
  },
  {
   "cell_type": "code",
   "execution_count": 10,
   "id": "7d0db5d6",
   "metadata": {},
   "outputs": [],
   "source": [
    "# we will succesfully filled with multiple feature missing value in by using imputer"
   ]
  },
  {
   "cell_type": "markdown",
   "id": "168b97b8",
   "metadata": {},
   "source": [
    "### outlier"
   ]
  },
  {
   "cell_type": "code",
   "execution_count": 11,
   "id": "865a659b",
   "metadata": {},
   "outputs": [
    {
     "data": {
      "text/plain": [
       "<AxesSubplot:>"
      ]
     },
     "execution_count": 11,
     "metadata": {},
     "output_type": "execute_result"
    },
    {
     "data": {
      "image/png": "[encoded data removed]",
      "text/plain": [
       "<Figure size 432x288 with 1 Axes>"
      ]
     },
     "metadata": {
      "needs_background": "light"
     },
     "output_type": "display_data"
    }
   ],
   "source": [
    "sns.boxplot(data=df1)"
   ]
  },
  {
   "cell_type": "code",
   "execution_count": 12,
   "id": "6810c2d1",
   "metadata": {},
   "outputs": [
    {
     "data": {
      "text/plain": [
       "<AxesSubplot:>"
      ]
     },
     "execution_count": 12,
     "metadata": {},
     "output_type": "execute_result"
    },
    {
     "data": {
      "image/png": "[encoded data removed]",
      "text/plain": [
       "<Figure size 432x288 with 1 Axes>"
      ]
     },
     "metadata": {
      "needs_background": "light"
     },
     "output_type": "display_data"
    }
   ],
   "source": [
    "df[['X3 distance to the nearest MRT station']].boxplot()"
   ]
  },
  {
   "cell_type": "code",
   "execution_count": 13,
   "id": "f9c6a57b",
   "metadata": {},
   "outputs": [],
   "source": [
    "# boxplot showing some outlier but in actual it may possible so not remove it"
   ]
  },
  {
   "cell_type": "markdown",
   "id": "f672aa4c",
   "metadata": {},
   "source": [
    "## Sepearting x and y"
   ]
  },
  {
   "cell_type": "code",
   "execution_count": 14,
   "id": "2e5d51f7",
   "metadata": {},
   "outputs": [],
   "source": [
    "x=df1.drop(columns=\"Y house price of unit area\")\n",
    "y=df1['Y house price of unit area']"
   ]
  },
  {
   "cell_type": "markdown",
   "id": "008e3eed",
   "metadata": {},
   "source": [
    "## train test split"
   ]
  },
  {
   "cell_type": "code",
   "execution_count": 15,
   "id": "8d4b296b",
   "metadata": {},
   "outputs": [],
   "source": [
    "x_train,x_test,y_train,y_test=train_test_split(x,y,random_state=42,test_size=0.2)"
   ]
  },
  {
   "cell_type": "markdown",
   "id": "069274cd",
   "metadata": {},
   "source": [
    "## Model training"
   ]
  },
  {
   "cell_type": "code",
   "execution_count": 16,
   "id": "0fb88697",
   "metadata": {},
   "outputs": [
    {
     "data": {
      "text/plain": [
       "KNeighborsRegressor()"
      ]
     },
     "execution_count": 16,
     "metadata": {},
     "output_type": "execute_result"
    }
   ],
   "source": [
    "knn=KNeighborsRegressor()\n",
    "knn.fit(x_train,y_train)"
   ]
  },
  {
   "cell_type": "markdown",
   "id": "aba9ea7e",
   "metadata": {},
   "source": [
    "## testing data evalution"
   ]
  },
  {
   "cell_type": "code",
   "execution_count": 17,
   "id": "bd73cafa",
   "metadata": {},
   "outputs": [
    {
     "name": "stdout",
     "output_type": "stream",
     "text": [
      "MSE is : 53.94380722891567\n",
      "RMSE is : 7.344644799370196\n",
      "MAE is : 4.890120481927711\n",
      "R-Squared : 0.6784460575856188\n"
     ]
    }
   ],
   "source": [
    "y_pred=knn.predict(x_test)\n",
    "\n",
    "mse=mean_squared_error(y_test,y_pred)\n",
    "print(\"MSE is :\",mse)\n",
    "\n",
    "rmse=np.sqrt(mse)\n",
    "print(\"RMSE is :\",rmse)\n",
    "\n",
    "mae=mean_absolute_error(y_test,y_pred)\n",
    "print(\"MAE is :\",mae)\n",
    "\n",
    "r2_value=r2_score(y_test,y_pred)\n",
    "print(\"R-Squared :\",r2_value)"
   ]
  },
  {
   "cell_type": "markdown",
   "id": "0597d578",
   "metadata": {},
   "source": [
    "## training data evalution"
   ]
  },
  {
   "cell_type": "code",
   "execution_count": 18,
   "id": "f98a728b",
   "metadata": {},
   "outputs": [
    {
     "name": "stdout",
     "output_type": "stream",
     "text": [
      "MSE is : 49.13435045317221\n",
      "RMSE is : 7.009589891938915\n",
      "MAE is : 4.761752265861027\n",
      "R-Squared : 0.7382255664610383\n"
     ]
    }
   ],
   "source": [
    "y_predict=knn.predict(x_train)\n",
    "\n",
    "mse=mean_squared_error(y_train,y_predict)\n",
    "print(\"MSE is :\",mse)\n",
    "\n",
    "rmse=np.sqrt(mse)\n",
    "print(\"RMSE is :\",rmse)\n",
    "\n",
    "mae=mean_absolute_error(y_train,y_predict)\n",
    "print(\"MAE is :\",mae)\n",
    "\n",
    "r2_value=r2_score(y_train,y_predict)\n",
    "print(\"R-Squared :\",r2_value)\n"
   ]
  },
  {
   "cell_type": "code",
   "execution_count": 19,
   "id": "7ec9b49d",
   "metadata": {},
   "outputs": [],
   "source": [
    "## so model overfit here "
   ]
  },
  {
   "cell_type": "code",
   "execution_count": 20,
   "id": "d636a2f2",
   "metadata": {},
   "outputs": [
    {
     "name": "stdout",
     "output_type": "stream",
     "text": [
      "MSE is : 54.33118341008418\n",
      "RMSE is : 7.370968960054315\n",
      "MAE is : 5.331167609349201\n",
      "R-Squared : 0.6761369447392902\n"
     ]
    }
   ],
   "source": [
    "## checking accuracy with linear model\n",
    "from sklearn.linear_model import LinearRegression\n",
    "linear_reg=LinearRegression()\n",
    "linear_reg.fit(x_train,y_train)\n",
    "\n",
    "y_pred=linear_reg.predict(x_test)\n",
    "\n",
    "mse=mean_squared_error(y_test,y_pred)\n",
    "print(\"MSE is :\",mse)\n",
    "\n",
    "rmse=np.sqrt(mse)\n",
    "print(\"RMSE is :\",rmse)\n",
    "\n",
    "mae=mean_absolute_error(y_test,y_pred)\n",
    "print(\"MAE is :\",mae)\n",
    "\n",
    "r2_value=r2_score(y_test,y_pred)\n",
    "print(\"R-Squared :\",r2_value)"
   ]
  },
  {
   "cell_type": "code",
   "execution_count": 21,
   "id": "643ac62b",
   "metadata": {},
   "outputs": [],
   "source": [
    "## accuracy is not good\n"
   ]
  },
  {
   "cell_type": "markdown",
   "id": "e4f883c4",
   "metadata": {},
   "source": [
    "## Feature scaling"
   ]
  },
  {
   "cell_type": "code",
   "execution_count": 22,
   "id": "25af39cb",
   "metadata": {},
   "outputs": [],
   "source": [
    "# standardization"
   ]
  },
  {
   "cell_type": "code",
   "execution_count": 23,
   "id": "9ff7595e",
   "metadata": {},
   "outputs": [
    {
     "data": {
      "text/html": [
       "<div>\n",
       "<style scoped>\n",
       "    .dataframe tbody tr th:only-of-type {\n",
       "        vertical-align: middle;\n",
       "    }\n",
       "\n",
       "    .dataframe tbody tr th {\n",
       "        vertical-align: top;\n",
       "    }\n",
       "\n",
       "    .dataframe thead th {\n",
       "        text-align: right;\n",
       "    }\n",
       "</style>\n",
       "<table border=\"1\" class=\"dataframe\">\n",
       "  <thead>\n",
       "    <tr style=\"text-align: right;\">\n",
       "      <th></th>\n",
       "      <th>X1 transaction date</th>\n",
       "      <th>X2 house age</th>\n",
       "      <th>X3 distance to the nearest MRT station</th>\n",
       "      <th>X4 number of convenience stores</th>\n",
       "      <th>X5 latitude</th>\n",
       "      <th>X6 longitude</th>\n",
       "    </tr>\n",
       "  </thead>\n",
       "  <tbody>\n",
       "    <tr>\n",
       "      <th>0</th>\n",
       "      <td>0.003819</td>\n",
       "      <td>2.344712</td>\n",
       "      <td>-0.822174</td>\n",
       "      <td>0.968042</td>\n",
       "      <td>-0.143147</td>\n",
       "      <td>0.453778</td>\n",
       "    </tr>\n",
       "    <tr>\n",
       "      <th>1</th>\n",
       "      <td>0.299397</td>\n",
       "      <td>-0.825066</td>\n",
       "      <td>0.968002</td>\n",
       "      <td>-0.049170</td>\n",
       "      <td>-0.740870</td>\n",
       "      <td>-1.365644</td>\n",
       "    </tr>\n",
       "    <tr>\n",
       "      <th>2</th>\n",
       "      <td>-1.776770</td>\n",
       "      <td>-0.904753</td>\n",
       "      <td>0.933524</td>\n",
       "      <td>-0.388241</td>\n",
       "      <td>-0.501137</td>\n",
       "      <td>-1.437534</td>\n",
       "    </tr>\n",
       "    <tr>\n",
       "      <th>3</th>\n",
       "      <td>-0.295320</td>\n",
       "      <td>1.707215</td>\n",
       "      <td>-0.464615</td>\n",
       "      <td>1.307112</td>\n",
       "      <td>0.070038</td>\n",
       "      <td>0.739322</td>\n",
       "    </tr>\n",
       "  </tbody>\n",
       "</table>\n",
       "</div>"
      ],
      "text/plain": [
       "   X1 transaction date  X2 house age  X3 distance to the nearest MRT station  \\\n",
       "0             0.003819      2.344712                               -0.822174   \n",
       "1             0.299397     -0.825066                                0.968002   \n",
       "2            -1.776770     -0.904753                                0.933524   \n",
       "3            -0.295320      1.707215                               -0.464615   \n",
       "\n",
       "   X4 number of convenience stores  X5 latitude  X6 longitude  \n",
       "0                         0.968042    -0.143147      0.453778  \n",
       "1                        -0.049170    -0.740870     -1.365644  \n",
       "2                        -0.388241    -0.501137     -1.437534  \n",
       "3                         1.307112     0.070038      0.739322  "
      ]
     },
     "execution_count": 23,
     "metadata": {},
     "output_type": "execute_result"
    }
   ],
   "source": [
    "std_model=StandardScaler()\n",
    "array=std_model.fit_transform(x_train)\n",
    "std_df=pd.DataFrame(array,columns=x_train.columns)\n",
    "std_df.head(4)"
   ]
  },
  {
   "cell_type": "code",
   "execution_count": 24,
   "id": "b5fcd091",
   "metadata": {},
   "outputs": [
    {
     "name": "stdout",
     "output_type": "stream",
     "text": [
      "MSE is : 55.549970627727426\n",
      "RMSE is : 7.453185267234904\n",
      "MAE is : 4.851913393756294\n",
      "R-Squared : 0.7040448899789928\n"
     ]
    }
   ],
   "source": [
    "## training accuracy\n",
    "knn_reg=KNeighborsRegressor(n_neighbors=6,p=2)\n",
    "knn_reg.fit(std_df,y_train)\n",
    "\n",
    "\n",
    "y_pred_train=knn_reg.predict(std_df)\n",
    "\n",
    "mse=mean_squared_error(y_train,y_pred_train)\n",
    "print(\"MSE is :\",mse)\n",
    "\n",
    "rmse=np.sqrt(mse)\n",
    "print(\"RMSE is :\",rmse)\n",
    "\n",
    "mae=mean_absolute_error(y_train,y_pred_train)\n",
    "print(\"MAE is :\",mae)\n",
    "\n",
    "r2_value=r2_score(y_train,y_pred_train)\n",
    "print(\"R-Squared :\",r2_value)"
   ]
  },
  {
   "cell_type": "code",
   "execution_count": 25,
   "id": "18c45269",
   "metadata": {},
   "outputs": [
    {
     "name": "stdout",
     "output_type": "stream",
     "text": [
      "MSE is : 43.063517402945116\n",
      "RMSE is : 6.562279893676062\n",
      "MAE is : 4.75281124497992\n",
      "R-Squared : 0.7433024381022048\n"
     ]
    }
   ],
   "source": [
    "## testing\n",
    "array=std_model.transform(x_test)\n",
    "std_test_xdf=pd.DataFrame(array,columns=x_test.columns)\n",
    "\n",
    "\n",
    "\n",
    "y_pred=knn_reg.predict(std_test_xdf)\n",
    "\n",
    "mse=mean_squared_error(y_test,y_pred)\n",
    "print(\"MSE is :\",mse)\n",
    "\n",
    "rmse=np.sqrt(mse)\n",
    "print(\"RMSE is :\",rmse)\n",
    "\n",
    "mae=mean_absolute_error(y_test,y_pred)\n",
    "print(\"MAE is :\",mae)\n",
    "\n",
    "r2_value=r2_score(y_test,y_pred)\n",
    "print(\"R-Squared :\",r2_value)"
   ]
  },
  {
   "cell_type": "code",
   "execution_count": 26,
   "id": "d7a0806b",
   "metadata": {},
   "outputs": [
    {
     "data": {
      "text/plain": [
       "Text(0.5, 1.0, 'Comparision Between Train ANd Test Accuracies')"
      ]
     },
     "execution_count": 26,
     "metadata": {},
     "output_type": "execute_result"
    },
    {
     "data": {
      "image/png": "[encoded data removed]",
      "text/plain": [
       "<Figure size 1440x720 with 1 Axes>"
      ]
     },
     "metadata": {
      "needs_background": "light"
     },
     "output_type": "display_data"
    }
   ],
   "source": [
    "#\n",
    "r2_train_list= []\n",
    "r2_test_list = []\n",
    "k_values=range(2,31)\n",
    "for k in k_values:\n",
    "    knn_reg=KNeighborsRegressor(n_neighbors=k,p=2)\n",
    "    knn_reg.fit(std_df,y_train)\n",
    "    r2_train=knn_reg.score(std_df,y_train)\n",
    "    r2_train_list.append(r2_train)\n",
    "    \n",
    "    r2_test=knn_reg.score(std_test_xdf,y_test)\n",
    "    r2_test_list.append(r2_test)\n",
    "\n",
    "plt.figure(figsize=(20,10))\n",
    "plt.plot(k_values,r2_train_list)\n",
    "plt.plot(k_values,r2_test_list)\n",
    "plt.xlabel(\"K_Values\")\n",
    "plt.ylabel(\"Accuracy\")\n",
    "plt.title(\"Comparision Between Train ANd Test Accuracies\")"
   ]
  },
  {
   "cell_type": "code",
   "execution_count": 27,
   "id": "fd4ebaba",
   "metadata": {},
   "outputs": [],
   "source": [
    "# we keeping some outlier thats why we not go for normalization \n",
    "# we will dump without scaled model"
   ]
  },
  {
   "cell_type": "markdown",
   "id": "896577e0",
   "metadata": {},
   "source": [
    "## testing on single row"
   ]
  },
  {
   "cell_type": "code",
   "execution_count": 28,
   "id": "fb4f1389",
   "metadata": {},
   "outputs": [
    {
     "data": {
      "text/html": [
       "<div>\n",
       "<style scoped>\n",
       "    .dataframe tbody tr th:only-of-type {\n",
       "        vertical-align: middle;\n",
       "    }\n",
       "\n",
       "    .dataframe tbody tr th {\n",
       "        vertical-align: top;\n",
       "    }\n",
       "\n",
       "    .dataframe thead th {\n",
       "        text-align: right;\n",
       "    }\n",
       "</style>\n",
       "<table border=\"1\" class=\"dataframe\">\n",
       "  <thead>\n",
       "    <tr style=\"text-align: right;\">\n",
       "      <th></th>\n",
       "      <th>0</th>\n",
       "    </tr>\n",
       "  </thead>\n",
       "  <tbody>\n",
       "    <tr>\n",
       "      <th>X1 transaction date</th>\n",
       "      <td>2012.91700</td>\n",
       "    </tr>\n",
       "    <tr>\n",
       "      <th>X2 house age</th>\n",
       "      <td>32.00000</td>\n",
       "    </tr>\n",
       "    <tr>\n",
       "      <th>X3 distance to the nearest MRT station</th>\n",
       "      <td>84.87882</td>\n",
       "    </tr>\n",
       "    <tr>\n",
       "      <th>X4 number of convenience stores</th>\n",
       "      <td>10.00000</td>\n",
       "    </tr>\n",
       "    <tr>\n",
       "      <th>X5 latitude</th>\n",
       "      <td>24.98298</td>\n",
       "    </tr>\n",
       "    <tr>\n",
       "      <th>X6 longitude</th>\n",
       "      <td>121.54024</td>\n",
       "    </tr>\n",
       "    <tr>\n",
       "      <th>Y house price of unit area</th>\n",
       "      <td>37.90000</td>\n",
       "    </tr>\n",
       "  </tbody>\n",
       "</table>\n",
       "</div>"
      ],
      "text/plain": [
       "                                                 0\n",
       "X1 transaction date                     2012.91700\n",
       "X2 house age                              32.00000\n",
       "X3 distance to the nearest MRT station    84.87882\n",
       "X4 number of convenience stores           10.00000\n",
       "X5 latitude                               24.98298\n",
       "X6 longitude                             121.54024\n",
       "Y house price of unit area                37.90000"
      ]
     },
     "execution_count": 28,
     "metadata": {},
     "output_type": "execute_result"
    }
   ],
   "source": [
    "df1.head(1).T"
   ]
  },
  {
   "cell_type": "code",
   "execution_count": 29,
   "id": "88fd2dab",
   "metadata": {},
   "outputs": [],
   "source": [
    "X1transactiondate=2013.67809\n",
    "X2houseage=23\n",
    "X3distancetothenearestMRTstation=96.789\n",
    "X4numberofconveniencestores=8\n",
    "X5latitude=24.67678\n",
    "X6longitude=35.80000"
   ]
  },
  {
   "cell_type": "code",
   "execution_count": 30,
   "id": "5bb5ebba",
   "metadata": {},
   "outputs": [],
   "source": [
    "array=np.array([X1transactiondate,X2houseage,X3distancetothenearestMRTstation,X4numberofconveniencestores,X5latitude,X6longitude])"
   ]
  },
  {
   "cell_type": "code",
   "execution_count": 31,
   "id": "291919e1",
   "metadata": {},
   "outputs": [
    {
     "name": "stderr",
     "output_type": "stream",
     "text": [
      "C:\\ANACONDA 64\\lib\\site-packages\\sklearn\\base.py:450: UserWarning: X does not have valid feature names, but KNeighborsRegressor was fitted with feature names\n",
      "  warnings.warn(\n"
     ]
    },
    {
     "data": {
      "text/plain": [
       "53.0"
      ]
     },
     "execution_count": 31,
     "metadata": {},
     "output_type": "execute_result"
    }
   ],
   "source": [
    "prediction=knn.predict([array])[0]\n",
    "prediction"
   ]
  },
  {
   "cell_type": "code",
   "execution_count": 32,
   "id": "d57346da",
   "metadata": {},
   "outputs": [],
   "source": [
    "# so house price will be 53 $  per unit area"
   ]
  },
  {
   "cell_type": "code",
   "execution_count": 33,
   "id": "34b52200",
   "metadata": {},
   "outputs": [],
   "source": [
    "with open(\"real_estate.pkl\",\"wb\") as f:\n",
    "    pickle.dump(knn,f)"
   ]
  },
  {
   "cell_type": "code",
   "execution_count": 34,
   "id": "ac0e761e",
   "metadata": {},
   "outputs": [
    {
     "data": {
      "text/plain": [
       "{'columns': ['X1 transaction date',\n",
       "  'X2 house age',\n",
       "  'X3 distance to the nearest MRT station',\n",
       "  'X4 number of convenience stores',\n",
       "  'X5 latitude',\n",
       "  'X6 longitude']}"
      ]
     },
     "execution_count": 34,
     "metadata": {},
     "output_type": "execute_result"
    }
   ],
   "source": [
    "json_data={\"columns\":list(x.columns)}\n",
    "json_data"
   ]
  },
  {
   "cell_type": "code",
   "execution_count": 35,
   "id": "b524fcff",
   "metadata": {},
   "outputs": [],
   "source": [
    "with open(\"json_data.json\",\"w\") as f:\n",
    "    json.dump(json_data,f)"
   ]
  }
 ],
 "metadata": {
  "kernelspec": {
   "display_name": "Python 3 (ipykernel)",
   "language": "python",
   "name": "python3"
  },
  "language_info": {
   "codemirror_mode": {
    "name": "ipython",
    "version": 3
   },
   "file_extension": ".py",
   "mimetype": "text/x-python",
   "name": "python",
   "nbconvert_exporter": "python",
   "pygments_lexer": "ipython3",
   "version": "3.9.12"
  }
 },
 "nbformat": 4,
 "nbformat_minor": 5
}
